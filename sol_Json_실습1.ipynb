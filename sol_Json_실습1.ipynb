{
 "cells": [
  {
   "cell_type": "markdown",
   "metadata": {},
   "source": [
    "# JSON 데이터 다루기\n",
    "\n",
    "**[목차]**\n",
    "* JSON이란?\n",
    "* JSON 데이터 다루기\n",
    "\n",
    "\n",
    "## 1. JSON 이란?\n",
    "* JSON(JavaScript Object Notation)은 **키-값 쌍으로 이루어진 데이터**를 전달 또는 저장하기 위해 사람이 사용할 수 있는 텍스트를 사용한 개방형 표준 포맷 </br>\n",
    "주로 웹 애플리케이션과 다양한 소프트웨어 간에 데이터를 전송하거나 저장하는 용도로 사용 \n",
    "\n",
    "* JSON은 단순한 데이터 포맷일 뿐이며 어떠한 통신 방법도 아니고 프로그래밍 문법도 아님\n",
    "\n",
    "* JSON 공식 홈페이지 : https://www.json.org/json-ko.html\n",
    "\n",
    "\n",
    "### 1.1 JSON 데이터 구성\n",
    "JSON은 `문자열`, `숫자`, `불리언`, `객체`, `배열` 등 다양한 데이터 타입을 지원\n",
    "\n",
    "![](./img/value.png)\n",
    "\n",
    "![](./img/object.png)\n",
    "\n",
    "![](./img/array.png)\n",
    "\n",
    "### 1.2 JSON 데이터 예시\n",
    "```json\n",
    "{\n",
    "    \"employee\": {\n",
    "        \"id\": 123, \n",
    "        \"name\": \"Queen\", \n",
    "        \"department\": \"HR\", \n",
    "        \"skills\": [\"communication\", \"teamwork\"]\n",
    "    }\n",
    "}\n",
    "```"
   ]
  },
  {
   "cell_type": "markdown",
   "metadata": {},
   "source": [
    "## 2. JSON 데이터 다루기\n",
    "데이터를 분석하고 원하는 데이터를 추출하는 과정을 **데이터 파싱(Data Parsing)** 이라 함 </br>\n",
    "예를 들면, 주행 중에 발생하고 JSON 타입으로 저장된 데이터에서 원하는 데이터를 추출하기 위해서는 데이터 타입에 맞는 파싱 방법이 필요\n",
    "\n",
    "### 2.1 JSON Library\n",
    "\n",
    "* Python 에는 `json 라이브러리`가 내장되어 있어 JSON 데이터를 처리할 수 있음 </br>\n",
    "* 내장 라이브러리이기 때문에 별도의 설치 과정이 필요 없음 </br>\n",
    "* JSON 형식으로 된 문자열 또는 파일을 읽고 Python 객체(Dictionary or List type)로 만들어서 분석함\n",
    "\n",
    "* 출처 : https://docs.python.org/ko/3/library/json.html"
   ]
  },
  {
   "cell_type": "code",
   "execution_count": 1,
   "metadata": {},
   "outputs": [],
   "source": [
    "# json 라이브러리 호출하기\n",
    "import json"
   ]
  },
  {
   "cell_type": "markdown",
   "metadata": {},
   "source": [
    "### 2.2 json.load\n",
    "\n",
    "JSON 파일 객체를 Python에서 사용할 수 있는 객체로 변환하는 함수 "
   ]
  },
  {
   "cell_type": "code",
   "execution_count": 5,
   "metadata": {},
   "outputs": [],
   "source": [
    "from pprint import pprint"
   ]
  },
  {
   "cell_type": "code",
   "execution_count": 6,
   "metadata": {},
   "outputs": [
    {
     "name": "stdout",
     "output_type": "stream",
     "text": [
      "{'employee': {'department': 'HR',\n",
      "              'id': 123,\n",
      "              'name': 'Queen',\n",
      "              'skills': ['communication', 'teamwork']}}\n"
     ]
    }
   ],
   "source": [
    "# target.json 파일을 읽어 Python 객체로 변환\n",
    "with open('data/target.json') as json_file :\n",
    "    parsed_data = json.load(json_file)\n",
    "\n",
    "pprint(parsed_data)"
   ]
  },
  {
   "cell_type": "markdown",
   "metadata": {},
   "source": [
    "파싱된 데이터가 딕셔너리 형태일 경우, Python에서 딕셔너리 자료형을 사용하는 것과 동일하게 사용할 수 있음"
   ]
  },
  {
   "cell_type": "code",
   "execution_count": 3,
   "metadata": {},
   "outputs": [
    {
     "name": "stdout",
     "output_type": "stream",
     "text": [
      "<class 'dict'>\n"
     ]
    }
   ],
   "source": [
    "print(type(parsed_data))"
   ]
  },
  {
   "cell_type": "code",
   "execution_count": 7,
   "metadata": {},
   "outputs": [
    {
     "name": "stdout",
     "output_type": "stream",
     "text": [
      "{'department': 'HR',\n",
      " 'id': 123,\n",
      " 'name': 'Queen',\n",
      " 'skills': ['communication', 'teamwork']}\n"
     ]
    }
   ],
   "source": [
    "pprint(parsed_data[\"employee\"])"
   ]
  },
  {
   "cell_type": "code",
   "execution_count": 8,
   "metadata": {},
   "outputs": [
    {
     "name": "stdout",
     "output_type": "stream",
     "text": [
      "['communication', 'teamwork']\n"
     ]
    }
   ],
   "source": [
    "print(parsed_data[\"employee\"]['skills'])"
   ]
  },
  {
   "cell_type": "code",
   "execution_count": 9,
   "metadata": {},
   "outputs": [
    {
     "name": "stdout",
     "output_type": "stream",
     "text": [
      "<class 'list'>\n"
     ]
    }
   ],
   "source": [
    "print(type(parsed_data[\"employee\"]['skills']))"
   ]
  },
  {
   "cell_type": "markdown",
   "metadata": {},
   "source": [
    "### 2.3 json.dump\n",
    "Python 객체를 JSON 파일 객체로 변환하는 함수\n",
    "\n",
    "##### (1) Dictionary → JSON"
   ]
  },
  {
   "cell_type": "code",
   "execution_count": 10,
   "metadata": {},
   "outputs": [
    {
     "name": "stdout",
     "output_type": "stream",
     "text": [
      "<class 'dict'>\n"
     ]
    }
   ],
   "source": [
    "json_data_dic = {\"name\" : \"elice\", \"age\" : 25, \"email\" : \"rabbit@elicer.com\"}\n",
    "\n",
    "print(type(json_data_dic))"
   ]
  },
  {
   "cell_type": "code",
   "execution_count": 11,
   "metadata": {},
   "outputs": [],
   "source": [
    "with open(\"create_file1.json\", \"w\") as f :\n",
    "    json.dump(json_data_dic, f)"
   ]
  },
  {
   "cell_type": "markdown",
   "metadata": {},
   "source": [
    "##### (2) List → JSON"
   ]
  },
  {
   "cell_type": "code",
   "execution_count": 12,
   "metadata": {},
   "outputs": [
    {
     "name": "stdout",
     "output_type": "stream",
     "text": [
      "<class 'list'>\n"
     ]
    }
   ],
   "source": [
    "json_data_list = [{\"name\" : \"elice\", \"age\" : 25}, {\"name\" : \"Queen\", \"age\" : 47}, {\"name\" : \"Carrot\", \"age\" : 1}]\n",
    "\n",
    "print(type(json_data_list))"
   ]
  },
  {
   "cell_type": "code",
   "execution_count": 13,
   "metadata": {},
   "outputs": [],
   "source": [
    "with open(\"create_file2.json\", \"w\") as f :\n",
    "    json.dump(json_data_list, f)"
   ]
  },
  {
   "cell_type": "markdown",
   "metadata": {},
   "source": [
    "### 2.4 json.loads\n",
    "문자열로 표현된 JSON 데이터를 Python 객체로 변환하는 함수"
   ]
  },
  {
   "cell_type": "code",
   "execution_count": 14,
   "metadata": {},
   "outputs": [
    {
     "name": "stdout",
     "output_type": "stream",
     "text": [
      "<class 'str'>\n"
     ]
    }
   ],
   "source": [
    "str_json = '{\"employee\": {\"id\": 123, \"name\": \"Queen\", \"department\": \"HR\", \"skills\": [\"communication\", \"teamwork\"]}}'\n",
    "\n",
    "print(type(str_json))"
   ]
  },
  {
   "cell_type": "code",
   "execution_count": 15,
   "metadata": {},
   "outputs": [
    {
     "name": "stdout",
     "output_type": "stream",
     "text": [
      "{'employee': {'id': 123, 'name': 'Queen', 'department': 'HR', 'skills': ['communication', 'teamwork']}}\n"
     ]
    }
   ],
   "source": [
    "loads_data = json.loads(str_json)\n",
    "\n",
    "print(loads_data)"
   ]
  },
  {
   "cell_type": "code",
   "execution_count": 16,
   "metadata": {},
   "outputs": [
    {
     "name": "stdout",
     "output_type": "stream",
     "text": [
      "<class 'dict'>\n"
     ]
    }
   ],
   "source": [
    "print(type(loads_data))"
   ]
  },
  {
   "cell_type": "code",
   "execution_count": 17,
   "metadata": {},
   "outputs": [
    {
     "name": "stdout",
     "output_type": "stream",
     "text": [
      "['communication', 'teamwork']\n",
      "<class 'list'>\n"
     ]
    }
   ],
   "source": [
    "print(loads_data[\"employee\"]['skills'])\n",
    "print(type(loads_data[\"employee\"]['skills']))"
   ]
  },
  {
   "cell_type": "markdown",
   "metadata": {},
   "source": [
    "### 2.5 json.dumps\n",
    "Python 객체를 문자열로 표현된 JSON 데이터로 변환하는 함수"
   ]
  },
  {
   "cell_type": "code",
   "execution_count": 18,
   "metadata": {},
   "outputs": [
    {
     "name": "stdout",
     "output_type": "stream",
     "text": [
      "<class 'dict'>\n"
     ]
    }
   ],
   "source": [
    "dic_data = {\"employee\": {\"id\": 123, \"name\": \"Queen\", \"department\": \"HR\", \"skills\": [\"communication\", \"teamwork\"]}}\n",
    "\n",
    "print(type(dic_data))"
   ]
  },
  {
   "cell_type": "code",
   "execution_count": 19,
   "metadata": {},
   "outputs": [
    {
     "name": "stdout",
     "output_type": "stream",
     "text": [
      "{\"employee\": {\"id\": 123, \"name\": \"Queen\", \"department\": \"HR\", \"skills\": [\"communication\", \"teamwork\"]}}\n",
      "<class 'str'>\n"
     ]
    }
   ],
   "source": [
    "dumps_data = json.dumps(dic_data)\n",
    "\n",
    "print(dumps_data)\n",
    "print(type(dumps_data))"
   ]
  },
  {
   "cell_type": "markdown",
   "metadata": {},
   "source": [
    "* dumps_data를 출력하면 한 줄로 출력되어 가독성이 매우 떨어짐\n",
    "* `dumps` 함수에 *indent* 인자를 추가하면 들여쓰기를 할 수 있음"
   ]
  },
  {
   "cell_type": "code",
   "execution_count": 23,
   "metadata": {},
   "outputs": [
    {
     "name": "stdout",
     "output_type": "stream",
     "text": [
      "{\n",
      "    \"employee\": {\n",
      "        \"id\": 123,\n",
      "        \"name\": \"Queen\",\n",
      "        \"department\": \"HR\",\n",
      "        \"skills\": [\n",
      "            \"communication\",\n",
      "            \"teamwork\"\n",
      "        ]\n",
      "    }\n",
      "}\n"
     ]
    }
   ],
   "source": [
    "dumps_data2 = json.dumps(dic_data, indent=4)\n",
    "print(dumps_data2)"
   ]
  },
  {
   "cell_type": "markdown",
   "metadata": {},
   "source": [
    "### 2.6 정리\n",
    "`json 라이브러리`를 사용하면 JSON 데이터에서 원하는 데이터를 추출할 수 있는 데이터 파싱 가능\n",
    "\n",
    "| 함수 명 | 설명 | 주요 매개변수 | 반환 값 |\n",
    "| -------- | -------- | -------- | -------- |\n",
    "| **json.load( )**     | JSON 파일 객체를 Python 객체로 변환하는 함수     | 읽을 JSON 데이터가 담긴 파일 객체    | Pyhthon 객체 (보통 dict 또는 list)   |\n",
    "| **json.dump( )**     | Python 객체를 JSON 파일 객체로 변환하는 함수     | 읽을 JSON 데이터가 담긴 문자열 & 쓰기를 할 파일 객체     |   None |\n",
    "| **json.loads( )**     | 문자열로 표현된 JSON 데이터를 Python 객체로 변환하는 함수     | JSON으로 변환할 Python 객체     |  JSON 문자열  |\n",
    "| **json.dumps( )**     | Python 객체를 문자열로 표현된 JSON 데이터로 변환하는 함수      | JSON으로 변환할 Python 객체     |    문자열 | \n",
    "\n"
   ]
  },
  {
   "cell_type": "markdown",
   "metadata": {},
   "source": [
    "### [TODO] JSON 파일을 파싱하여 새로 저장하기\n",
    "* data 폴더에 있는 `parsing_target.json` 은 자동차 주행 중에 센서로 습득한 데이터의 일부분입니다.\n",
    "* 해당 데이터를 읽고 GPS 위도(latitude)와 경도(longitude) 데이터를 추출하여 `result1.json`에 저장하는 코드를 작성하세요."
   ]
  },
  {
   "cell_type": "code",
   "execution_count": 24,
   "metadata": {},
   "outputs": [
    {
     "name": "stdout",
     "output_type": "stream",
     "text": [
      "{'data_purpose': 'train',\n",
      " 'filename': 'parsing_target',\n",
      " 'framerate': 10,\n",
      " 'gps_latitude': 37.41473487066775,\n",
      " 'gps_longitude': 127.12871262424409,\n",
      " 'lat_accel': -0.01,\n",
      " 'lat_velocity': -0.13,\n",
      " 'length': 11,\n",
      " 'location': '야탑동 487-1',\n",
      " 'long_accel': 0.25,\n",
      " 'long_velocity': 14.86,\n",
      " 'region_name': '경기 성남시 분당구',\n",
      " 'road_feature': 'r_cityroad',\n",
      " 'time': 'day',\n",
      " 'vehicle_id': 'AIMMO-ADCV1'}\n"
     ]
    }
   ],
   "source": [
    "json_path = \"data/parsing_target.json\"\n",
    "\n",
    "\n",
    "# JSON 파일을 읽는 코드를 작성해주세요.\n",
    "with open(json_path) as json_file :\n",
    "    parsed_data = json.load(json_file)\n",
    "\n",
    "\n",
    "# 추출한 데이터를 확인하는 코드입니다.\n",
    "pprint(parsed_data)"
   ]
  },
  {
   "cell_type": "markdown",
   "metadata": {},
   "source": [
    "읽은 파일에서 gps 위도(latitude)와 경도(longitude) 데이터를 파싱하여 저장하는 코드를 작성해주세요."
   ]
  },
  {
   "cell_type": "code",
   "execution_count": 25,
   "metadata": {},
   "outputs": [],
   "source": [
    "# 추출한 데이터에서 위도와 경도 데이터를 추출하는 코드를 작성해주세요.\n",
    "latitude = parsed_data['gps_latitude']\n",
    "longitude = parsed_data['gps_longitude']"
   ]
  },
  {
   "cell_type": "markdown",
   "metadata": {},
   "source": [
    "추출한 위도와 경도 데이터를 배열(array) 형태로 하여, `result1.json` 파일로 저장하는 코드를 작성해주세요. \n",
    "\n",
    "파일 경로가 달라지면 채점이 정상적으로 동작하지 않을 수 있습니다."
   ]
  },
  {
   "cell_type": "code",
   "execution_count": 26,
   "metadata": {},
   "outputs": [],
   "source": [
    "# 추출한 데이터를 배열 형태로 저장하는 코드를 작성하세요.\n",
    "gps_data = [latitude, longitude]"
   ]
  },
  {
   "cell_type": "code",
   "execution_count": 27,
   "metadata": {},
   "outputs": [],
   "source": [
    "# 추출한 데이터를 JSON 파일로 저장하는 코드를 작성하세요. \n",
    "with open(\"result1.json\", \"w\") as f :\n",
    "    json.dump(gps_data, f)"
   ]
  },
  {
   "cell_type": "code",
   "execution_count": null,
   "metadata": {},
   "outputs": [],
   "source": []
  }
 ],
 "metadata": {
  "kernelspec": {
   "display_name": "base",
   "language": "python",
   "name": "python3"
  },
  "language_info": {
   "codemirror_mode": {
    "name": "ipython",
    "version": 3
   },
   "file_extension": ".py",
   "mimetype": "text/x-python",
   "name": "python",
   "nbconvert_exporter": "python",
   "pygments_lexer": "ipython3",
   "version": "3.12.7"
  }
 },
 "nbformat": 4,
 "nbformat_minor": 2
}
